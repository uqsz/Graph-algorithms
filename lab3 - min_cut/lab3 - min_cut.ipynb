{
 "cells": [
  {
   "cell_type": "markdown",
   "id": "28e12793",
   "metadata": {},
   "source": [
    "# Konfiguracja"
   ]
  },
  {
   "cell_type": "code",
   "execution_count": 1,
   "id": "d3646dc3",
   "metadata": {
    "code_folding": [
     0
    ]
   },
   "outputs": [],
   "source": [
    "# Algorytmy Grafowe\n",
    "# Piotr Faliszewski 2019\n",
    "# Load graph in the DIMACS ascii format + weights\n",
    "\n",
    "def loadCNFFormula( name ): # Load a CNF formula in the DIMACS ascii format from the file \"name\" and return it as a list of clauses, \n",
    "    V = 0                   # Returns (V,F), V -- highest variable number F -- list of clauses\n",
    "    L = []  \n",
    "    f = open( name, \"r\" )\n",
    "    lines = f.readlines()\n",
    "    for l in lines:\n",
    "        s = l.split()\n",
    "        if(len(s) < 1): continue\n",
    "        if( s[0] == \"c\" ):\n",
    "            print(s)\n",
    "            continue\n",
    "        elif( s[0] == \"p\" ):\n",
    "            V = int(s[2])\n",
    "        else:\n",
    "            clause = [int(v) for v in s[:-1]]\n",
    "            L.append(clause)\n",
    "    f.close()\n",
    "    return (V,L)\n",
    "\n",
    "def loadWeightedGraph( name ): # Load a graph in the DIMACS ascii format (with weights) from the file \"name\" and return it as a list of sets\n",
    "    V = 0                      # Returns (V,L), V -- number of vertices (1, ..., V), L -- list of edges in the format (x,y,w): edge between x and y with weight w (x<y)\"\"\"\n",
    "    L = []  \n",
    "    f = open( name, \"r\" )\n",
    "    lines = f.readlines()\n",
    "    for l in lines:\n",
    "        s = l.split()\n",
    "        if(len(s) < 1): continue\n",
    "        if( s[0] == \"c\" ):\n",
    "            continue\n",
    "        elif( s[0] == \"p\" ):\n",
    "            V = int(s[2])\n",
    "        elif( s[0] == \"e\" ):\n",
    "                (a,b,c) = (int(s[1]), int(s[2]), int(s[3]))\n",
    "                (x,y,c) = (min(a,b), max(a,b), c)\n",
    "                L.append((x,y,c))\n",
    "    f.close()\n",
    "    return (V,L)\n",
    "\n",
    "def loadDirectedWeightedGraph( name ): # Load a directed graph in the DIMACS ascii format (with weights) from the file \"name\" and return it as a list of sets\n",
    "    V = 0                              # Returns (V,L), V -- number of vertices (1, ..., V), L -- list of edges in the format (x,y,w): edge between x and y with weight w\n",
    "    L = []\n",
    "    f = open( name, \"r\" )\n",
    "    lines = f.readlines()\n",
    "    for l in lines:\n",
    "        s = l.split()\n",
    "        if(len(s) < 1): \n",
    "            continue\n",
    "        if( s[0] == \"c\" ):\n",
    "            continue\n",
    "        elif( s[0] == \"p\" ):\n",
    "            V = int(s[2])\n",
    "        elif( s[0] == \"e\" ):\n",
    "            (a,b,c) = (int(s[1]), int(s[2]), int(s[3]))\n",
    "            L.append((a,b,c))\n",
    "    f.close()\n",
    "    return (V,L)\n",
    "\n",
    "def readSolution(name): # Read the expected solution from the first line of the graph file\n",
    "    with open(name, 'r') as f:\n",
    "        line = f.readline()\n",
    "        return line.split()[-1]"
   ]
  },
  {
   "cell_type": "code",
   "execution_count": 2,
   "id": "99279ff4",
   "metadata": {
    "code_folding": [
     3
    ]
   },
   "outputs": [],
   "source": [
    "import networkx as nx\n",
    "import matplotlib.pyplot as plt\n",
    "\n",
    "def show(x): # ((V,L))\n",
    "    g = nx.Graph()\n",
    "    temp=[]\n",
    "    g.add_weighted_edges_from(x[1])\n",
    "    pos = nx.spectral_layout(g)\n",
    "    labels = nx.get_edge_attributes(g,'weight')\n",
    "    nx.draw_networkx_edge_labels(g,pos,edge_labels=labels,font_size=6,rotate=False)\n",
    "    nx.draw_networkx_nodes(g, pos, node_size=150, node_color='red', alpha=0.6)\n",
    "    nx.draw_networkx_edges(g, pos, width=0.2, arrowsize=4, alpha=0.9)\n",
    "    nx.draw_networkx_labels(g, pos, font_size=7, font_family='sans-serif')\n",
    "    #plt.savefig(\"graph\", dpi=250)"
   ]
  },
  {
   "cell_type": "code",
   "execution_count": 3,
   "id": "701d920b",
   "metadata": {
    "code_folding": []
   },
   "outputs": [],
   "source": [
    "import time\n",
    "import os\n",
    "\n",
    "def test(flag):\n",
    "    file='graphs-lab3/'\n",
    "    l = list(os.listdir(file))\n",
    "    cnt=0\n",
    "    for i in range(len(l)):\n",
    "        if i==8 and not flag:\n",
    "            print(\"\\n\",l[i],\"\\n\")\n",
    "            continue\n",
    "        V, L = loadWeightedGraph(file+l[i])\n",
    "        G=Graph(V,L)\n",
    "        time0=time.time()\n",
    "        res=G.min_cut()\n",
    "        time1=time.time()\n",
    "        print(\"=\"*50)\n",
    "        print(\"| #\"+str(i+1),\"Wynik:\",res,\"| Oczekiwane:\",readSolution(file+l[i]),\"| Czas:\",round(time1-time0,3))\n",
    "        if res==int(readSolution(file+l[i])):\n",
    "            print(\"| Test zaliczony!   \"+l[i])\n",
    "            cnt+=1\n",
    "        else:\n",
    "            print(\"| TEST NIEZALICZONY!   \"+l[i])\n",
    "    print(\"=\"*50)\n",
    "    print(\"Ilosc zaliczonych testów:\", str(cnt)+\"/\"+str(len(l))) "
   ]
  },
  {
   "cell_type": "markdown",
   "id": "e2ec873e",
   "metadata": {},
   "source": [
    "# Rozwiązanie"
   ]
  },
  {
   "cell_type": "markdown",
   "id": "a42fcffd",
   "metadata": {},
   "source": [
    "### Klasa wierzchołka"
   ]
  },
  {
   "cell_type": "code",
   "execution_count": 4,
   "id": "f4d9ed69",
   "metadata": {},
   "outputs": [],
   "source": [
    "class Node:\n",
    "    def __init__(self):\n",
    "        self.edges = {}\n",
    "        self.ver_merged=[]\n",
    "    \n",
    "    def add_edge(self, to, weight):\n",
    "        self.edges[to] = self.edges.get(to,0) + weight\n",
    "    \n",
    "    def del_edge(self, to):\n",
    "        self.edges.pop(to)\n",
    "    \n",
    "    def __str__(self):\n",
    "        return str(list(self.edges.items()))"
   ]
  },
  {
   "cell_type": "markdown",
   "id": "ccefa41d",
   "metadata": {},
   "source": [
    "### Klasa grafu"
   ]
  },
  {
   "cell_type": "code",
   "execution_count": 5,
   "id": "29925656",
   "metadata": {
    "code_folding": []
   },
   "outputs": [],
   "source": [
    "from queue import PriorityQueue\n",
    "class Graph:\n",
    "    def __init__(self,V,L):\n",
    "        self.V=V\n",
    "        self.L=L\n",
    "        self.G=[Node() for i in range(V)]\n",
    "        for (x,y,c) in L:\n",
    "            self.G[x-1].add_edge(y-1,c)\n",
    "            self.G[y-1].add_edge(x-1,c)\n",
    "            \n",
    "    def __str__(self):\n",
    "        res=\"\"\n",
    "        for v in range(self.V):\n",
    "            res+= str(v) + (\" -> \") + str(self.G[v]) + \"  #\" + str(self.G[v].ver_merged) + \"\\n\"\n",
    "        return res\n",
    "\n",
    "    def show(self):\n",
    "        show((self.V,self.L))\n",
    "    \n",
    "    def merge_vertices(self,x,y):\n",
    "        self.G[x].ver_merged.append(y)\n",
    "        for v in self.G[y].edges:\n",
    "            if x!=v:\n",
    "                self.G[v].add_edge(x,self.G[y].edges[v])\n",
    "                self.G[x].add_edge(v,self.G[y].edges[v])\n",
    "                self.G[v].del_edge(y)\n",
    "        if self.G[x].edges.get(y) is not None:\n",
    "            self.G[x].del_edge(y)\n",
    "        self.G[y].edges.clear()\n",
    "        self.V-=1\n",
    "        \n",
    "    def min_cut_phase(self):\n",
    "        S=[]\n",
    "        vis=[False]*(len(self.G))\n",
    "        for i in range(len(self.G)):\n",
    "            if len(self.G[i].edges)==0:\n",
    "                vis[i]=True\n",
    "        val=[0]*(len(self.G))\n",
    "        Q=PriorityQueue()\n",
    "        Q.put((0,0))\n",
    "        while len(S)!=self.V:\n",
    "            u=Q.get()\n",
    "            if not vis[u[1]]:\n",
    "                for v in self.G[u[1]].edges:\n",
    "                    if not vis[v]:\n",
    "                        val[v]+=self.G[u[1]].edges[v]\n",
    "                        Q.put((-val[v],v))\n",
    "                vis[u[1]]=True\n",
    "                S.append(u[1])\n",
    "        self.merge_vertices(S[-1],S[-2])\n",
    "        return val[S[-1]]\n",
    "    \n",
    "    def min_cut(self):\n",
    "        res=float(\"inf\")\n",
    "        while self.V>1:\n",
    "            res=min(res,self.min_cut_phase())\n",
    "        return res\n",
    "        \n"
   ]
  },
  {
   "cell_type": "code",
   "execution_count": 6,
   "id": "60ed5e01",
   "metadata": {},
   "outputs": [
    {
     "name": "stdout",
     "output_type": "stream",
     "text": [
      "==================================================\n",
      "| #1 Wynik: 99 | Oczekiwane: 99 | Czas: 0.28\n",
      "| Test zaliczony!   clique100\n",
      "==================================================\n",
      "| #2 Wynik: 19 | Oczekiwane: 19 | Czas: 0.002\n",
      "| Test zaliczony!   clique20\n",
      "==================================================\n",
      "| #3 Wynik: 199 | Oczekiwane: 199 | Czas: 1.997\n",
      "| Test zaliczony!   clique200\n",
      "==================================================\n",
      "| #4 Wynik: 4 | Oczekiwane: 4 | Czas: 0.0\n",
      "| Test zaliczony!   clique5\n",
      "==================================================\n",
      "| #5 Wynik: 2 | Oczekiwane: 2 | Czas: 0.0\n",
      "| Test zaliczony!   cycle\n",
      "==================================================\n",
      "| #6 Wynik: 1 | Oczekiwane: 1 | Czas: 0.026\n",
      "| Test zaliczony!   geo100_2a\n",
      "==================================================\n",
      "| #7 Wynik: 2 | Oczekiwane: 2 | Czas: 0.001\n",
      "| Test zaliczony!   geo20_2b\n",
      "==================================================\n",
      "| #8 Wynik: 1 | Oczekiwane: 1 | Czas: 0.001\n",
      "| Test zaliczony!   geo20_2c\n",
      "==================================================\n",
      "| #9 Wynik: 2 | Oczekiwane: 2 | Czas: 281.175\n",
      "| Test zaliczony!   grid100x100\n",
      "==================================================\n",
      "| #10 Wynik: 2 | Oczekiwane: 2 | Czas: 0.002\n",
      "| Test zaliczony!   grid5x5\n",
      "==================================================\n",
      "| #11 Wynik: 1 | Oczekiwane: 1 | Czas: 0.0\n",
      "| Test zaliczony!   mc1\n",
      "==================================================\n",
      "| #12 Wynik: 2 | Oczekiwane: 2 | Czas: 0.0\n",
      "| Test zaliczony!   mc2\n",
      "==================================================\n",
      "| #13 Wynik: 1 | Oczekiwane: 1 | Czas: 0.0\n",
      "| Test zaliczony!   path\n",
      "==================================================\n",
      "| #14 Wynik: 4 | Oczekiwane: 4 | Czas: 0.057\n",
      "| Test zaliczony!   rand100_500\n",
      "==================================================\n",
      "| #15 Wynik: 2 | Oczekiwane: 2 | Czas: 0.002\n",
      "| Test zaliczony!   rand20_100\n",
      "==================================================\n",
      "| #16 Wynik: 2 | Oczekiwane: 2 | Czas: 0.0\n",
      "| Test zaliczony!   simple\n",
      "==================================================\n",
      "| #17 Wynik: 2 | Oczekiwane: 2 | Czas: 0.0\n",
      "| Test zaliczony!   trivial\n",
      "==================================================\n",
      "Ilosc zaliczonych testów: 17/17\n"
     ]
    }
   ],
   "source": [
    "test(True) "
   ]
  },
  {
   "cell_type": "code",
   "execution_count": null,
   "id": "f99d1347",
   "metadata": {},
   "outputs": [],
   "source": []
  }
 ],
 "metadata": {
  "kernelspec": {
   "display_name": "Python 3 (ipykernel)",
   "language": "python",
   "name": "python3"
  },
  "language_info": {
   "codemirror_mode": {
    "name": "ipython",
    "version": 3
   },
   "file_extension": ".py",
   "mimetype": "text/x-python",
   "name": "python",
   "nbconvert_exporter": "python",
   "pygments_lexer": "ipython3",
   "version": "3.10.6"
  },
  "latex_envs": {
   "LaTeX_envs_menu_present": true,
   "autoclose": false,
   "autocomplete": true,
   "bibliofile": "biblio.bib",
   "cite_by": "apalike",
   "current_citInitial": 1,
   "eqLabelWithNumbers": true,
   "eqNumInitial": 1,
   "hotkeys": {
    "equation": "Ctrl-E",
    "itemize": "Ctrl-I"
   },
   "labels_anchors": false,
   "latex_user_defs": false,
   "report_style_numbering": false,
   "user_envs_cfg": false
  }
 },
 "nbformat": 4,
 "nbformat_minor": 5
}
