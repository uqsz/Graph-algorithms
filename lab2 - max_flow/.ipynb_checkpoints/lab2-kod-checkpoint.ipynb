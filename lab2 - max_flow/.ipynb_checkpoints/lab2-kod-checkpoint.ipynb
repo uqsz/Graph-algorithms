{
 "cells": [
  {
   "cell_type": "markdown",
   "id": "16700e54",
   "metadata": {
    "slideshow": {
     "slide_type": "-"
    }
   },
   "source": [
    "# Konfiguracja"
   ]
  },
  {
   "cell_type": "markdown",
   "id": "a87fba47",
   "metadata": {},
   "source": [
    "### Wczytywanie grafów"
   ]
  },
  {
   "cell_type": "code",
   "execution_count": 5,
   "id": "97da58d7",
   "metadata": {
    "code_folding": []
   },
   "outputs": [],
   "source": [
    "# Algorytmy Grafowe\n",
    "# Piotr Faliszewski 2019\n",
    "# Load graph in the DIMACS ascii format + weights\n",
    "\n",
    "def loadCNFFormula( name ): # Load a CNF formula in the DIMACS ascii format from the file \"name\" and return it as a list of clauses, \n",
    "    V = 0                   # Returns (V,F), V -- highest variable number F -- list of clauses\n",
    "    L = []  \n",
    "    f = open( name, \"r\" )\n",
    "    lines = f.readlines()\n",
    "    for l in lines:\n",
    "        s = l.split()\n",
    "        if(len(s) < 1): continue\n",
    "        if( s[0] == \"c\" ):\n",
    "            print(s)\n",
    "            continue\n",
    "        elif( s[0] == \"p\" ):\n",
    "            V = int(s[2])\n",
    "        else:\n",
    "            clause = [int(v) for v in s[:-1]]\n",
    "            L.append(clause)\n",
    "    f.close()\n",
    "    return (V,L)\n",
    "\n",
    "def loadWeightedGraph( name ): # Load a graph in the DIMACS ascii format (with weights) from the file \"name\" and return it as a list of sets\n",
    "    V = 0                      # Returns (V,L), V -- number of vertices (1, ..., V), L -- list of edges in the format (x,y,w): edge between x and y with weight w (x<y)\"\"\"\n",
    "    L = []  \n",
    "    f = open( name, \"r\" )\n",
    "    lines = f.readlines()\n",
    "    for l in lines:\n",
    "        s = l.split()\n",
    "        if(len(s) < 1): continue\n",
    "        if( s[0] == \"c\" ):\n",
    "            continue\n",
    "        elif( s[0] == \"p\" ):\n",
    "            V = int(s[2])\n",
    "        elif( s[0] == \"e\" ):\n",
    "                (a,b,c) = (int(s[1]), int(s[2]), int(s[3]))\n",
    "                (x,y,c) = (min(a,b), max(a,b), c)\n",
    "                L.append((x,y,c))\n",
    "    f.close()\n",
    "    return (V,L)\n",
    "\n",
    "def loadDirectedWeightedGraph( name ): # Load a directed graph in the DIMACS ascii format (with weights) from the file \"name\" and return it as a list of sets\n",
    "    V = 0                              # Returns (V,L), V -- number of vertices (1, ..., V), L -- list of edges in the format (x,y,w): edge between x and y with weight w\n",
    "    L = []\n",
    "    f = open( name, \"r\" )\n",
    "    lines = f.readlines()\n",
    "    for l in lines:\n",
    "        s = l.split()\n",
    "        if(len(s) < 1): \n",
    "            continue\n",
    "        if( s[0] == \"c\" ):\n",
    "            continue\n",
    "        elif( s[0] == \"p\" ):\n",
    "            V = int(s[2])\n",
    "        elif( s[0] == \"e\" ):\n",
    "            (a,b,c) = (int(s[1]), int(s[2]), int(s[3]))\n",
    "            L.append((a,b,c))\n",
    "    f.close()\n",
    "    return (V,L)\n",
    "\n",
    "def readSolution(name): # Read the expected solution from the first line of the graph file\n",
    "    with open(name, 'r') as f:\n",
    "        line = f.readline()\n",
    "        return line.split()[-1]"
   ]
  },
  {
   "cell_type": "markdown",
   "id": "6d58f347",
   "metadata": {},
   "source": [
    "### Wizualizacja grafów"
   ]
  },
  {
   "cell_type": "code",
   "execution_count": 6,
   "id": "9a33a791",
   "metadata": {},
   "outputs": [],
   "source": [
    "import networkx as nx\n",
    "import matplotlib.pyplot as plt\n",
    "\n",
    "def show_g(x): # ((V,L))\n",
    "    g = nx.DiGraph()\n",
    "    g.add_weighted_edges_from(x[1])\n",
    "    pos = nx.random_layout(g)\n",
    "    labels = nx.get_edge_attributes(g,'weight')\n",
    "    nx.draw_networkx_edge_labels(g,pos,edge_labels=labels,font_size=6,rotate=False)\n",
    "    nx.draw_networkx_nodes(g, pos, node_size=150, node_color='red', alpha=0.6)\n",
    "    nx.draw_networkx_edges(g, pos, width=0.2, arrowsize=4, alpha=0.9)\n",
    "    nx.draw_networkx_labels(g, pos, font_size=7, font_family='sans-serif')\n",
    "    plt.savefig(\"graph\", dpi=250)"
   ]
  },
  {
   "cell_type": "markdown",
   "id": "13e1e5b9",
   "metadata": {},
   "source": [
    "### Tworzenie listy sąsiedztwa z wagami"
   ]
  },
  {
   "cell_type": "code",
   "execution_count": 7,
   "id": "f5cf7b04",
   "metadata": {},
   "outputs": [],
   "source": [
    "def adj_list_w(V,L):\n",
    "    G = [[] for _ in range(V)]\n",
    "    for u, v, c in L: \n",
    "        u -= 1\n",
    "        v -= 1\n",
    "        G[u].append((v, c))\n",
    "        G[v].append((u, c))\n",
    "    return G"
   ]
  },
  {
   "cell_type": "markdown",
   "id": "0f85fd27",
   "metadata": {},
   "source": [
    "### Tworzenie listy sąsiedztwa bez wag"
   ]
  },
  {
   "cell_type": "code",
   "execution_count": 8,
   "id": "fb499349",
   "metadata": {},
   "outputs": [],
   "source": [
    "def adj_list(V,L):\n",
    "    G = [[] for i in range(V)]\n",
    "    for u, v, c in L: \n",
    "        G[u-1].append(v-1)\n",
    "        G[v-1].append(u-1)\n",
    "    return G"
   ]
  },
  {
   "cell_type": "markdown",
   "id": "d82f2498",
   "metadata": {},
   "source": [
    "### Tworzenie macierzy incydencji"
   ]
  },
  {
   "cell_type": "code",
   "execution_count": 9,
   "id": "2c47b456",
   "metadata": {},
   "outputs": [],
   "source": [
    "def make_W(V,L):\n",
    "    W=[[0 for _ in range(V)] for _ in range(V)]\n",
    "    for u,v,c in L:\n",
    "        W[u-1][v-1]=c\n",
    "    return W"
   ]
  },
  {
   "cell_type": "markdown",
   "id": "ee215bdb",
   "metadata": {},
   "source": [
    "### Testy"
   ]
  },
  {
   "cell_type": "code",
   "execution_count": 18,
   "id": "6f655993",
   "metadata": {},
   "outputs": [],
   "source": [
    "import time\n",
    "import os\n",
    "\n",
    "def test(f):\n",
    "    l = list(os.listdir('flow/'))\n",
    "    cnt=0\n",
    "    for i in range(len(l)):\n",
    "        V, L = loadWeightedGraph('flow/'+l[i])\n",
    "        time0=time.time()\n",
    "        res=f(V,L)\n",
    "        time1=time.time()\n",
    "        print(\"=\"*50)\n",
    "        print(\"| #\"+str(i),\"Wynik:\",res,\"| Oczekiwane:\",readSolution('flow/'+l[i]),\"| Czas:\",round(time1-time0,3))\n",
    "        if res==int(readSolution('flow/'+l[i])):\n",
    "            print(\"| Test zaliczony!\")\n",
    "            cnt+=1\n",
    "        else:\n",
    "            print(\"| TEST NIEZALICZONY!\")\n",
    "    print(\"=\"*50)\n",
    "    print(\"| Ilosc zaliczonych testów:\", str(cnt)+\"/\"+str(len(l)))             "
   ]
  },
  {
   "cell_type": "markdown",
   "id": "0715e698",
   "metadata": {},
   "source": [
    "# Rozwiązanie"
   ]
  },
  {
   "cell_type": "markdown",
   "id": "5c48e724",
   "metadata": {},
   "source": [
    "### Funkcje pomocnicze"
   ]
  },
  {
   "cell_type": "code",
   "execution_count": 13,
   "id": "f2184148",
   "metadata": {},
   "outputs": [],
   "source": [
    "def take_min(par,t,W):\n",
    "    res=float(\"inf\")\n",
    "    prev=par[t]\n",
    "    while prev!=-1:\n",
    "        res=min(res,W[prev][t])\n",
    "        t=prev\n",
    "        prev=par[t]\n",
    "    return res"
   ]
  },
  {
   "cell_type": "code",
   "execution_count": 14,
   "id": "30c06b32",
   "metadata": {},
   "outputs": [],
   "source": [
    "def apply_min(par,t,W):\n",
    "    val=take_min(par,t,W)\n",
    "    prev=par[t]\n",
    "    while prev!=-1:\n",
    "        W[prev][t]-=val\n",
    "        W[t][prev]+=val       \n",
    "        t=prev\n",
    "        prev=par[t]"
   ]
  },
  {
   "cell_type": "code",
   "execution_count": 15,
   "id": "cd8ca0cd",
   "metadata": {},
   "outputs": [],
   "source": [
    "def BFS(G,W,s,t):\n",
    "    global par\n",
    "    n=len(G)\n",
    "    vis=[False]*n\n",
    "    par=[-1]*n\n",
    "    Q=deque()\n",
    "    Q.append(s)\n",
    "    vis[s]=True\n",
    "    while Q:\n",
    "        u=Q.popleft()\n",
    "        for v in G[u]:\n",
    "            if not vis[v] and W[u][v]>0:\n",
    "                vis[v]=True\n",
    "                par[v]=u\n",
    "                Q.append(v)\n",
    "                if vis[t]:\n",
    "                    return True\n",
    "    return False"
   ]
  },
  {
   "cell_type": "markdown",
   "id": "cae95366",
   "metadata": {},
   "source": [
    "### Główna funkcja"
   ]
  },
  {
   "cell_type": "code",
   "execution_count": 22,
   "id": "7c331d5c",
   "metadata": {},
   "outputs": [],
   "source": [
    "from collections import deque\n",
    "\n",
    "def ford_fulkerson(V,L):\n",
    "    s=0\n",
    "    t=V-1\n",
    "    W=make_W(V,L)\n",
    "    G=adj_list(V,L)\n",
    "    global par\n",
    "    cnt=0\n",
    "    while BFS(G,W,s,t):\n",
    "        cnt+=take_min(par,t,W)\n",
    "        apply_min(par,t,W)\n",
    "    return cnt"
   ]
  },
  {
   "cell_type": "code",
   "execution_count": 23,
   "id": "f3a95d4d",
   "metadata": {},
   "outputs": [
    {
     "name": "stdout",
     "output_type": "stream",
     "text": [
      "==================================================\n",
      "| #0 Wynik: 4816 | Oczekiwane: 4816 | Czas: 0.06\n",
      "| Test zaliczony!\n",
      "==================================================\n",
      "| #1 Wynik: 709 | Oczekiwane: 709 | Czas: 0.001\n",
      "| Test zaliczony!\n",
      "==================================================\n",
      "| #2 Wynik: 138 | Oczekiwane: 138 | Czas: 0.0\n",
      "| Test zaliczony!\n",
      "==================================================\n",
      "| #3 Wynik: 4179 | Oczekiwane: 4179 | Czas: 17.852\n",
      "| Test zaliczony!\n",
      "==================================================\n",
      "| #4 Wynik: 15 | Oczekiwane: 15 | Czas: 0.001\n",
      "| Test zaliczony!\n",
      "==================================================\n",
      "| #5 Wynik: 124 | Oczekiwane: 124 | Czas: 0.004\n",
      "| Test zaliczony!\n",
      "==================================================\n",
      "| #6 Wynik: 1574 | Oczekiwane: 1574 | Czas: 0.002\n",
      "| Test zaliczony!\n",
      "==================================================\n",
      "| #7 Wynik: 132 | Oczekiwane: 132 | Czas: 0.0\n",
      "| Test zaliczony!\n",
      "==================================================\n",
      "| #8 Wynik: 24 | Oczekiwane: 23 | Czas: 0.0\n",
      "| TEST NIEZALICZONY!\n",
      "==================================================\n",
      "| #9 Wynik: 5 | Oczekiwane: 5 | Czas: 0.001\n",
      "| Test zaliczony!\n",
      "==================================================\n",
      "| #10 Wynik: 3 | Oczekiwane: 3 | Czas: 0.0\n",
      "| Test zaliczony!\n",
      "==================================================\n",
      "| #11 Wynik: 7 | Oczekiwane: 7 | Czas: 0.0\n",
      "| Test zaliczony!\n",
      "==================================================\n",
      "| #12 Wynik: 20 | Oczekiwane: 20 | Czas: 0.0\n",
      "| Test zaliczony!\n",
      "==================================================\n",
      "| Ilosc zaliczonych testów: 12/13\n"
     ]
    }
   ],
   "source": [
    "test(ford_fulkerson)"
   ]
  },
  {
   "cell_type": "code",
   "execution_count": null,
   "id": "df2bdfd8",
   "metadata": {},
   "outputs": [],
   "source": []
  }
 ],
 "metadata": {
  "kernelspec": {
   "display_name": "Python 3 (ipykernel)",
   "language": "python",
   "name": "python3"
  },
  "language_info": {
   "codemirror_mode": {
    "name": "ipython",
    "version": 3
   },
   "file_extension": ".py",
   "mimetype": "text/x-python",
   "name": "python",
   "nbconvert_exporter": "python",
   "pygments_lexer": "ipython3",
   "version": "3.10.6"
  },
  "latex_envs": {
   "LaTeX_envs_menu_present": true,
   "autoclose": false,
   "autocomplete": true,
   "bibliofile": "biblio.bib",
   "cite_by": "apalike",
   "current_citInitial": 1,
   "eqLabelWithNumbers": true,
   "eqNumInitial": 1,
   "hotkeys": {
    "equation": "Ctrl-E",
    "itemize": "Ctrl-I"
   },
   "labels_anchors": false,
   "latex_user_defs": false,
   "report_style_numbering": false,
   "user_envs_cfg": false
  }
 },
 "nbformat": 4,
 "nbformat_minor": 5
}
