{
 "cells": [
  {
   "cell_type": "markdown",
   "id": "16700e54",
   "metadata": {
    "slideshow": {
     "slide_type": "-"
    }
   },
   "source": [
    "# Konfiguracja"
   ]
  },
  {
   "cell_type": "markdown",
   "id": "a87fba47",
   "metadata": {},
   "source": [
    "### Wczytywanie grafów"
   ]
  },
  {
   "cell_type": "code",
   "execution_count": 1,
   "id": "97da58d7",
   "metadata": {
    "code_folding": []
   },
   "outputs": [],
   "source": [
    "# Algorytmy Grafowe\n",
    "# Piotr Faliszewski 2019\n",
    "# Load graph in the DIMACS ascii format + weights\n",
    "\n",
    "def loadCNFFormula( name ): # Load a CNF formula in the DIMACS ascii format from the file \"name\" and return it as a list of clauses, \n",
    "    V = 0                   # Returns (V,F), V -- highest variable number F -- list of clauses\n",
    "    L = []  \n",
    "    f = open( name, \"r\" )\n",
    "    lines = f.readlines()\n",
    "    for l in lines:\n",
    "        s = l.split()\n",
    "        if(len(s) < 1): continue\n",
    "        if( s[0] == \"c\" ):\n",
    "            print(s)\n",
    "            continue\n",
    "        elif( s[0] == \"p\" ):\n",
    "            V = int(s[2])\n",
    "        else:\n",
    "            clause = [int(v) for v in s[:-1]]\n",
    "            L.append(clause)\n",
    "    f.close()\n",
    "    return (V,L)\n",
    "\n",
    "def loadWeightedGraph( name ): # Load a graph in the DIMACS ascii format (with weights) from the file \"name\" and return it as a list of sets\n",
    "    V = 0                      # Returns (V,L), V -- number of vertices (1, ..., V), L -- list of edges in the format (x,y,w): edge between x and y with weight w (x<y)\"\"\"\n",
    "    L = []  \n",
    "    f = open( name, \"r\" )\n",
    "    lines = f.readlines()\n",
    "    for l in lines:\n",
    "        s = l.split()\n",
    "        if(len(s) < 1): continue\n",
    "        if( s[0] == \"c\" ):\n",
    "            continue\n",
    "        elif( s[0] == \"p\" ):\n",
    "            V = int(s[2])\n",
    "        elif( s[0] == \"e\" ):\n",
    "                (a,b,c) = (int(s[1]), int(s[2]), int(s[3]))\n",
    "                (x,y,c) = (min(a,b), max(a,b), c)\n",
    "                L.append((x,y,c))\n",
    "    f.close()\n",
    "    return (V,L)\n",
    "\n",
    "def loadDirectedWeightedGraph( name ): # Load a directed graph in the DIMACS ascii format (with weights) from the file \"name\" and return it as a list of sets\n",
    "    V = 0                              # Returns (V,L), V -- number of vertices (1, ..., V), L -- list of edges in the format (x,y,w): edge between x and y with weight w\n",
    "    L = []\n",
    "    f = open( name, \"r\" )\n",
    "    lines = f.readlines()\n",
    "    for l in lines:\n",
    "        s = l.split()\n",
    "        if(len(s) < 1): \n",
    "            continue\n",
    "        if( s[0] == \"c\" ):\n",
    "            continue\n",
    "        elif( s[0] == \"p\" ):\n",
    "            V = int(s[2])\n",
    "        elif( s[0] == \"e\" ):\n",
    "            (a,b,c) = (int(s[1]), int(s[2]), int(s[3]))\n",
    "            L.append((a,b,c))\n",
    "    f.close()\n",
    "    return (V,L)\n",
    "\n",
    "def readSolution(name): # Read the expected solution from the first line of the graph file\n",
    "    with open(name, 'r') as f:\n",
    "        line = f.readline()\n",
    "        return line.split()[-1]"
   ]
  },
  {
   "cell_type": "markdown",
   "id": "6d58f347",
   "metadata": {},
   "source": [
    "### Wizualizacja grafów"
   ]
  },
  {
   "cell_type": "code",
   "execution_count": 2,
   "id": "9a33a791",
   "metadata": {},
   "outputs": [],
   "source": [
    "import networkx as nx\n",
    "import matplotlib.pyplot as plt\n",
    "\n",
    "def show_g(x): # ((V,L))\n",
    "    g = nx.DiGraph()\n",
    "    g.add_weighted_edges_from(x[1])\n",
    "    pos = nx.random_layout(g)\n",
    "    labels = nx.get_edge_attributes(g,'weight')\n",
    "    nx.draw_networkx_edge_labels(g,pos,edge_labels=labels,font_size=6,rotate=False)\n",
    "    nx.draw_networkx_nodes(g, pos, node_size=150, node_color='red', alpha=0.6)\n",
    "    nx.draw_networkx_edges(g, pos, width=0.2, arrowsize=4, alpha=0.9)\n",
    "    nx.draw_networkx_labels(g, pos, font_size=7, font_family='sans-serif')\n",
    "    plt.savefig(\"graph\", dpi=250)"
   ]
  },
  {
   "cell_type": "markdown",
   "id": "13e1e5b9",
   "metadata": {},
   "source": [
    "### Tworzenie listy sąsiedztwa"
   ]
  },
  {
   "cell_type": "code",
   "execution_count": 3,
   "id": "f5cf7b04",
   "metadata": {},
   "outputs": [],
   "source": [
    "def adj_list(V,L):\n",
    "    G = [[] for _ in range(V)]\n",
    "    for u, v, c in L: \n",
    "        u -= 1\n",
    "        v -= 1\n",
    "        G[u].append((v, c))\n",
    "        G[v].append((u, c))\n",
    "    return G"
   ]
  },
  {
   "cell_type": "markdown",
   "id": "ee215bdb",
   "metadata": {},
   "source": [
    "### Testy"
   ]
  },
  {
   "cell_type": "code",
   "execution_count": 4,
   "id": "6f655993",
   "metadata": {},
   "outputs": [],
   "source": [
    "import time\n",
    "import os\n",
    "\n",
    "def test(f,flag):\n",
    "    l = list(os.listdir('graphs-lab1/'))\n",
    "    cnt=0\n",
    "    for i in range(len(l)):\n",
    "        if not flag and (i==1 or i==5 or i==12 or i==13):\n",
    "            continue\n",
    "        V, L = loadWeightedGraph('graphs-lab1/'+l[i])\n",
    "        time0=time.time()\n",
    "        res=f(V,L)\n",
    "        time1=time.time()\n",
    "        print(\"=\"*50)\n",
    "        print(\"| #\"+str(i),\"Wynik:\",res,\"| Oczekiwane:\",readSolution('graphs-lab1/'+l[i]),\"| Czas:\",round(time1-time0,3))\n",
    "        if res==int(readSolution('graphs-lab1/'+l[i])):\n",
    "            print(\"| Test zaliczony!\")\n",
    "            cnt+=1\n",
    "        else:\n",
    "            print(\"| TEST NIEZALICZONY!\")\n",
    "    print(\"=\"*50)\n",
    "    print(\"| Ilosc zaliczonych testów:\", str(cnt)+\"/\"+str(len(l)))             "
   ]
  },
  {
   "cell_type": "markdown",
   "id": "f1c15000",
   "metadata": {},
   "source": [
    "# Rozwiązania"
   ]
  },
  {
   "cell_type": "markdown",
   "id": "354471c1",
   "metadata": {},
   "source": [
    "### Zbiory rozłączne"
   ]
  },
  {
   "cell_type": "code",
   "execution_count": 5,
   "id": "4d8b478c",
   "metadata": {},
   "outputs": [],
   "source": [
    "class Node:\n",
    "    def __init__(self):\n",
    "        self.parent=self\n",
    "        self.rank=0\n",
    "        \n",
    "def find_set(x):\n",
    "    if x.parent!=x:\n",
    "        x.parent=find_set(x.parent)\n",
    "    return x.parent\n",
    "\n",
    "def union(x,y):\n",
    "    x=find_set(x)\n",
    "    y=find_set(y)\n",
    "    if x==y:\n",
    "        return\n",
    "    if x.rank>y.rank:\n",
    "        y.parent=x\n",
    "    else:\n",
    "        x.parent=y\n",
    "        if x.rank==y.rank:\n",
    "            y.rank+=1"
   ]
  },
  {
   "cell_type": "code",
   "execution_count": 6,
   "id": "bbd873df",
   "metadata": {},
   "outputs": [],
   "source": [
    "def kruskal(V,E):\n",
    "    n=V+1\n",
    "    pnt=[Node() for _ in range(n)]\n",
    "    E.sort(key=lambda x:x[2],reverse=True)\n",
    "    res=E[0][2]\n",
    "    for edge in E:\n",
    "        if find_set(pnt[edge[0]])!=find_set(pnt[edge[1]]):\n",
    "            union(pnt[edge[0]],pnt[edge[1]])\n",
    "            res=min(res,edge[2])\n",
    "        if find_set(pnt[1])==find_set(pnt[2]):\n",
    "             return res"
   ]
  },
  {
   "cell_type": "markdown",
   "id": "406033d4",
   "metadata": {},
   "source": [
    "### Djikstra"
   ]
  },
  {
   "cell_type": "code",
   "execution_count": 7,
   "id": "1d62fbea",
   "metadata": {},
   "outputs": [],
   "source": [
    "import heapq\n",
    "\n",
    "def relax(d,u,v):\n",
    "    if d[v[0]]<min(d[u],v[1]):\n",
    "        d[v[0]]=min(d[u],v[1])\n",
    "        \n",
    "def dijkstra(V,L):\n",
    "    G=adj_list(V,L)\n",
    "    d=[0 for i in range(V)]\n",
    "    vis=[False for _ in range(V)]\n",
    "    d[0]=float(\"inf\")\n",
    "    Q=[(d[0],0)]\n",
    "    while Q:\n",
    "        u=heapq.heappop(Q)\n",
    "        for v in G[u[1]]:\n",
    "            if not vis[v[0]]:\n",
    "                relax(d,u[1],v)\n",
    "                heapq.heappush(Q,(-d[v[0]],v[0]))\n",
    "        vis[u[1]]=True\n",
    "        if vis[1]:\n",
    "            return d[1]"
   ]
  },
  {
   "cell_type": "code",
   "execution_count": 8,
   "id": "476a1d7c",
   "metadata": {},
   "outputs": [
    {
     "name": "stdout",
     "output_type": "stream",
     "text": [
      "==================================================\n",
      "| #0 Wynik: 98 | Oczekiwane: 98 | Czas: 0.001\n",
      "| Test zaliczony!\n",
      "==================================================\n",
      "| #1 Wynik: 99 | Oczekiwane: 99 | Czas: 0.077\n",
      "| Test zaliczony!\n",
      "==================================================\n",
      "| #2 Wynik: 89 | Oczekiwane: 89 | Czas: 0.0\n",
      "| Test zaliczony!\n",
      "==================================================\n",
      "| #3 Wynik: 90 | Oczekiwane: 90 | Czas: 0.0\n",
      "| Test zaliczony!\n",
      "==================================================\n",
      "| #4 Wynik: 4 | Oczekiwane: 4 | Czas: 0.0\n",
      "| Test zaliczony!\n",
      "==================================================\n",
      "| #5 Wynik: 2735 | Oczekiwane: 2735 | Czas: 0.03\n",
      "| Test zaliczony!\n",
      "==================================================\n",
      "| #6 Wynik: 9 | Oczekiwane: 9 | Czas: 0.0\n",
      "| Test zaliczony!\n",
      "==================================================\n",
      "| #7 Wynik: 11 | Oczekiwane: 11 | Czas: 0.0\n",
      "| Test zaliczony!\n",
      "==================================================\n",
      "| #8 Wynik: 10 | Oczekiwane: 10 | Czas: 0.002\n",
      "| Test zaliczony!\n",
      "==================================================\n",
      "| #9 Wynik: 10 | Oczekiwane: 10 | Czas: 0.022\n",
      "| Test zaliczony!\n",
      "==================================================\n",
      "| #10 Wynik: 4 | Oczekiwane: 4 | Czas: 0.0\n",
      "| Test zaliczony!\n",
      "==================================================\n",
      "| #11 Wynik: 64 | Oczekiwane: 64 | Czas: 0.001\n",
      "| Test zaliczony!\n",
      "==================================================\n",
      "| #12 Wynik: 960 | Oczekiwane: 960 | Czas: 0.066\n",
      "| Test zaliczony!\n",
      "==================================================\n",
      "| #13 Wynik: 99301 | Oczekiwane: 99301 | Czas: 0.023\n",
      "| Test zaliczony!\n",
      "==================================================\n",
      "| #14 Wynik: 344 | Oczekiwane: 344 | Czas: 0.0\n",
      "| Test zaliczony!\n",
      "==================================================\n",
      "| #15 Wynik: 68 | Oczekiwane: 68 | Czas: 0.0\n",
      "| Test zaliczony!\n",
      "==================================================\n",
      "| Ilosc zaliczonych testów: 16/16\n"
     ]
    }
   ],
   "source": [
    "test(kruskal,True)"
   ]
  },
  {
   "cell_type": "code",
   "execution_count": 9,
   "id": "486ce6cd",
   "metadata": {},
   "outputs": [
    {
     "name": "stdout",
     "output_type": "stream",
     "text": [
      "==================================================\n",
      "| #0 Wynik: 98 | Oczekiwane: 98 | Czas: 0.002\n",
      "| Test zaliczony!\n",
      "==================================================\n",
      "| #2 Wynik: 89 | Oczekiwane: 89 | Czas: 0.0\n",
      "| Test zaliczony!\n",
      "==================================================\n",
      "| #3 Wynik: 90 | Oczekiwane: 90 | Czas: 0.0\n",
      "| Test zaliczony!\n",
      "==================================================\n",
      "| #4 Wynik: 4 | Oczekiwane: 4 | Czas: 0.0\n",
      "| Test zaliczony!\n",
      "==================================================\n",
      "| #6 Wynik: 9 | Oczekiwane: 9 | Czas: 0.0\n",
      "| Test zaliczony!\n",
      "==================================================\n",
      "| #7 Wynik: 11 | Oczekiwane: 11 | Czas: 0.0\n",
      "| Test zaliczony!\n",
      "==================================================\n",
      "| #8 Wynik: 10 | Oczekiwane: 10 | Czas: 0.001\n",
      "| Test zaliczony!\n",
      "==================================================\n",
      "| #9 Wynik: 10 | Oczekiwane: 10 | Czas: 0.012\n",
      "| Test zaliczony!\n",
      "==================================================\n",
      "| #10 Wynik: 4 | Oczekiwane: 4 | Czas: 0.0\n",
      "| Test zaliczony!\n",
      "==================================================\n",
      "| #11 Wynik: 64 | Oczekiwane: 64 | Czas: 0.0\n",
      "| Test zaliczony!\n",
      "==================================================\n",
      "| #14 Wynik: 344 | Oczekiwane: 344 | Czas: 0.0\n",
      "| Test zaliczony!\n",
      "==================================================\n",
      "| #15 Wynik: 68 | Oczekiwane: 68 | Czas: 0.0\n",
      "| Test zaliczony!\n",
      "==================================================\n",
      "| Ilosc zaliczonych testów: 12/16\n"
     ]
    }
   ],
   "source": [
    "test(dijkstra,False)"
   ]
  },
  {
   "cell_type": "code",
   "execution_count": null,
   "id": "737ee9b2",
   "metadata": {},
   "outputs": [],
   "source": []
  }
 ],
 "metadata": {
  "kernelspec": {
   "display_name": "Python 3 (ipykernel)",
   "language": "python",
   "name": "python3"
  },
  "language_info": {
   "codemirror_mode": {
    "name": "ipython",
    "version": 3
   },
   "file_extension": ".py",
   "mimetype": "text/x-python",
   "name": "python",
   "nbconvert_exporter": "python",
   "pygments_lexer": "ipython3",
   "version": "3.10.3"
  },
  "latex_envs": {
   "LaTeX_envs_menu_present": true,
   "autoclose": false,
   "autocomplete": true,
   "bibliofile": "biblio.bib",
   "cite_by": "apalike",
   "current_citInitial": 1,
   "eqLabelWithNumbers": true,
   "eqNumInitial": 1,
   "hotkeys": {
    "equation": "Ctrl-E",
    "itemize": "Ctrl-I"
   },
   "labels_anchors": false,
   "latex_user_defs": false,
   "report_style_numbering": false,
   "user_envs_cfg": false
  }
 },
 "nbformat": 4,
 "nbformat_minor": 5
}
